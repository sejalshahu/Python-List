{
 "cells": [
  {
   "cell_type": "markdown",
   "id": "8d7b6775",
   "metadata": {},
   "source": [
    "### Create and extracting the character"
   ]
  },
  {
   "cell_type": "code",
   "execution_count": 7,
   "id": "1b7635bd",
   "metadata": {},
   "outputs": [
    {
     "name": "stdout",
     "output_type": "stream",
     "text": [
      "q\n",
      "r\n",
      "s\n",
      "['w']\n"
     ]
    }
   ],
   "source": [
    "my_l=['q','w','e','r','t','y','s']\n",
    "print(my_l[0])  #where square bracket are used it is called a list\n",
    "print(my_l[3])\n",
    "print(my_l[6])\n",
    "print(my_l[1])"
   ]
  },
  {
   "cell_type": "markdown",
   "id": "7523bcbc",
   "metadata": {},
   "source": [
    "### Nested List"
   ]
  },
  {
   "cell_type": "code",
   "execution_count": 20,
   "id": "eb03f489",
   "metadata": {},
   "outputs": [
    {
     "name": "stdout",
     "output_type": "stream",
     "text": [
      "a\n",
      "l\n",
      "3\n",
      "[1, 2, 3]\n",
      "happy\n",
      "sejal\n"
     ]
    }
   ],
   "source": [
    "#Nested list\n",
    "n_list=[\"happy\",\"sejal\",[1,2,3]]         #A Nested list is a lists or any list \n",
    "                                          #   that has another list as an element.\n",
    "\n",
    "#nested indexing\n",
    "print(n_list[0][1])\n",
    "\n",
    "print(n_list[1][4])\n",
    "\n",
    "print(n_list[2][2])\n",
    "\n",
    "print(n_list[2])\n",
    "print(n_list[0])\n",
    "print(n_list[1])"
   ]
  },
  {
   "cell_type": "code",
   "execution_count": 25,
   "id": "e142e9ac",
   "metadata": {},
   "outputs": [
    {
     "name": "stdout",
     "output_type": "stream",
     "text": [
      "4\n",
      "1\n",
      "s\n"
     ]
    }
   ],
   "source": [
    "#Negative indexing in list\n",
    "my_l=['q','e','s','f','z','v','1','3','4']\n",
    "print(my_l[-1])\n",
    "print(my_l[-3])\n",
    "print(my_l[-7])"
   ]
  },
  {
   "cell_type": "markdown",
   "id": "d7a0aaba",
   "metadata": {},
   "source": [
    "### List Slicing in pyton"
   ]
  },
  {
   "cell_type": "code",
   "execution_count": 36,
   "id": "207a2707",
   "metadata": {},
   "outputs": [
    {
     "name": "stdout",
     "output_type": "stream",
     "text": [
      "['a', 'd', 'f']\n",
      "['3', 'w', '1', 'z']\n",
      "['w', 'z', 's']\n",
      "['3', 'w', '1', 'z', 'x', 's', 'f', 'd', 'a']\n",
      "['d', 'f', 's', 'x', 'z', '1', 'w', '3']\n",
      "['a', 'd', 'f', 's', 'x', 'z', '1', 'w', '3']\n"
     ]
    }
   ],
   "source": [
    "my_s=['a','d','f','s','x','z','1','w','3']\n",
    "print(my_s[0:3])\n",
    "print(my_s[-1:-5:-1])\n",
    "print(my_s[-2:-7:-2])\n",
    "print(my_s[::-1])\n",
    "print(my_s[1:])\n",
    "print(my_s[:])"
   ]
  },
  {
   "cell_type": "markdown",
   "id": "42fd886a",
   "metadata": {},
   "source": [
    "### Changing the item value"
   ]
  },
  {
   "cell_type": "code",
   "execution_count": 43,
   "id": "ee7472d5",
   "metadata": {},
   "outputs": [
    {
     "name": "stdout",
     "output_type": "stream",
     "text": [
      "['1', '3', 'a', 'sejal', 'g', 'c']\n",
      "['1', '3', 'a', 'sejal', 'kaju', 'c']\n",
      "['ved', '3', 'a', 'sejal', 'kaju', 'c']\n"
     ]
    }
   ],
   "source": [
    "s=['1','3','a','d','g','c']\n",
    "s[3]=\"sejal\"\n",
    "print(s)\n",
    "s[4]=\"kaju\"\n",
    "print(s)\n",
    "s[0]=\"ved\"\n",
    "print(s)"
   ]
  },
  {
   "cell_type": "markdown",
   "id": "edb813bc",
   "metadata": {},
   "source": [
    "### Appending and extending"
   ]
  },
  {
   "cell_type": "code",
   "execution_count": 1,
   "id": "622b2612",
   "metadata": {},
   "outputs": [
    {
     "name": "stdout",
     "output_type": "stream",
     "text": [
      "['2', 'r', 's', 'sejal']\n",
      "['2', 'r', 's', 'sejal', 8]\n"
     ]
    }
   ],
   "source": [
    "s=['2','r','s'] \n",
    "s.append(\"sejal\")  \n",
    "print(s)\n",
    "s.append(8)\n",
    "print(s)"
   ]
  },
  {
   "cell_type": "code",
   "execution_count": 2,
   "id": "8f370aaa",
   "metadata": {},
   "outputs": [
    {
     "name": "stdout",
     "output_type": "stream",
     "text": [
      "['s', 'd', 'z', '1', 33, 2, 12, 'kaju']\n"
     ]
    }
   ],
   "source": [
    "s=['s','d','z','1'] \n",
    "s.extend([33,2,12,\"kaju\"])\n",
    "print(s)"
   ]
  },
  {
   "cell_type": "markdown",
   "id": "5e7341b6",
   "metadata": {},
   "source": [
    "### Insert the item in the list to particular index"
   ]
  },
  {
   "cell_type": "code",
   "execution_count": 59,
   "id": "6c568477",
   "metadata": {},
   "outputs": [
    {
     "name": "stdout",
     "output_type": "stream",
     "text": [
      "['apple', 'orange', 'banana', 'cerry']\n",
      "['kiwi', 'apple', 'orange', 'banana', 'cerry']\n"
     ]
    }
   ],
   "source": [
    "fruit=[\"apple\",\"banana\",\"cerry\"]  #insert means new item to be inserted \n",
    "fruit.insert(1,\"orange\")\n",
    "print(fruit)\n",
    "fruit.insert(0,\"kiwi\")\n",
    "print(fruit)"
   ]
  },
  {
   "cell_type": "markdown",
   "id": "92b2da03",
   "metadata": {},
   "source": [
    "### List of number"
   ]
  },
  {
   "cell_type": "code",
   "execution_count": 67,
   "id": "5319af2f",
   "metadata": {},
   "outputs": [
    {
     "name": "stdout",
     "output_type": "stream",
     "text": [
      "66\n",
      "12\n",
      "[12, 14, 21, 34, 65, 66]\n",
      "[66, 65, 34, 21, 14, 12]\n",
      "sum is: 212\n"
     ]
    }
   ],
   "source": [
    "age=[12,34,65,21,14,66]     \n",
    "print(max(age))\n",
    "print(min(age))\n",
    "age.sort()             #age.sort(reverse=False)\n",
    "print(age)\n",
    "age.sort(reverse=True)\n",
    "print(age)\n",
    "a=sum(age)\n",
    "print(\"sum is:\",a)"
   ]
  },
  {
   "cell_type": "markdown",
   "id": "bebcc470",
   "metadata": {},
   "source": [
    "### Count"
   ]
  },
  {
   "cell_type": "code",
   "execution_count": 70,
   "id": "994867b3",
   "metadata": {},
   "outputs": [
    {
     "name": "stdout",
     "output_type": "stream",
     "text": [
      "3\n",
      "2\n"
     ]
    }
   ],
   "source": [
    "fruit=(\"apple\",\"banana\",\"kiwi\",\"cherry\",\"mango\",\"mango\",\"cherry\",\"apple\",\"mango\")\n",
    "print(fruit.count(\"mango\"))\n",
    "print(fruit.count(\"cherry\"))"
   ]
  }
 ],
 "metadata": {
  "kernelspec": {
   "display_name": "Python 3 (ipykernel)",
   "language": "python",
   "name": "python3"
  },
  "language_info": {
   "codemirror_mode": {
    "name": "ipython",
    "version": 3
   },
   "file_extension": ".py",
   "mimetype": "text/x-python",
   "name": "python",
   "nbconvert_exporter": "python",
   "pygments_lexer": "ipython3",
   "version": "3.11.5"
  }
 },
 "nbformat": 4,
 "nbformat_minor": 5
}
